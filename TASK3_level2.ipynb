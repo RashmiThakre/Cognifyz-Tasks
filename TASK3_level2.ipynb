{
  "cells": [
    {
      "cell_type": "markdown",
      "metadata": {
        "id": "view-in-github",
        "colab_type": "text"
      },
      "source": [
        "<a href=\"https://colab.research.google.com/github/RashmiThakre/Cognifyz-Tasks/blob/main/TASK3_level2.ipynb\" target=\"_parent\"><img src=\"https://colab.research.google.com/assets/colab-badge.svg\" alt=\"Open In Colab\"/></a>"
      ]
    },
    {
      "cell_type": "code",
      "execution_count": null,
      "metadata": {
        "id": "TSIp14foMtQQ",
        "collapsed": true
      },
      "outputs": [],
      "source": [
        "!pip install folium\n",
        "import folium\n",
        "import pandas as pd\n",
        "import numpy as np\n",
        "import matplotlib.pyplot as plt\n",
        "import seaborn as sns\n",
        "import warnings\n",
        "warnings.filterwarnings(\"ignore\")\n",
        "import geopandas as gpd\n",
        "from sklearn.cluster import KMeans\n",
        "from shapely.geometry import Point\n"
      ]
    },
    {
      "cell_type": "code",
      "execution_count": null,
      "metadata": {
        "id": "Q3crkkw1M1nC"
      },
      "outputs": [],
      "source": [
        "df= pd.read_csv('/content/Dataset .csv')"
      ]
    },
    {
      "cell_type": "code",
      "execution_count": null,
      "metadata": {
        "colab": {
          "base_uri": "https://localhost:8080/"
        },
        "id": "pW71FwSxM1qC",
        "outputId": "f9428515-0b84-4d64-edca-4fd63a1cf1f6"
      },
      "outputs": [
        {
          "name": "stdout",
          "output_type": "stream",
          "text": [
            "Index(['Restaurant ID', 'Restaurant Name', 'Country Code', 'City', 'Address',\n",
            "       'Locality', 'Locality Verbose', 'Longitude', 'Latitude', 'Cuisines',\n",
            "       'Average Cost for two', 'Currency', 'Has Table booking',\n",
            "       'Has Online delivery', 'Is delivering now', 'Switch to order menu',\n",
            "       'Price range', 'Aggregate rating', 'Rating color', 'Rating text',\n",
            "       'Votes'],\n",
            "      dtype='object')\n"
          ]
        }
      ],
      "source": [
        "print(df.columns)"
      ]
    },
    {
      "cell_type": "code",
      "execution_count": null,
      "metadata": {
        "id": "RAKYWyVOM1r7"
      },
      "outputs": [],
      "source": [
        "center_lat = df['Latitude'].mean()\n",
        "center_lon = df['Longitude'].mean()\n",
        "m = folium.Map(location=[center_lat, center_lon], zoom_start=5)\n"
      ]
    },
    {
      "cell_type": "code",
      "execution_count": null,
      "metadata": {
        "id": "TM2n9jArQUe7"
      },
      "outputs": [],
      "source": [
        "for idx, row in df.iterrows():\n",
        "    folium.Marker(\n",
        "        location=[row['Latitude'], row['Longitude']],\n",
        "        popup=row['Restaurant Name']\n",
        "    ).add_to(m)\n"
      ]
    },
    {
      "cell_type": "code",
      "execution_count": null,
      "metadata": {
        "colab": {
          "base_uri": "https://localhost:8080/",
          "height": 508
        },
        "id": "-w02MOlUQUqQ",
        "outputId": "8114a427-4d82-401e-8b46-0cbe909341af"
      },
      "outputs": [],
      "source": [
        "# Display the map\n",
        "m"
      ]
    },
    {
      "cell_type": "code",
      "execution_count": null,
      "metadata": {
        "id": "NMe3iX6eRykN",
        "colab": {
          "base_uri": "https://localhost:8080/",
          "height": 393
        },
        "outputId": "58eef140-cc90-49df-e1bc-2e2142584bc4"
      },
      "outputs": [
        {
          "output_type": "display_data",
          "data": {
            "text/plain": [
              "<Figure size 640x480 with 1 Axes>"
            ],
            "image/png": "[encoded data removed]"
          },
          "metadata": {}
        },
        {
          "output_type": "display_data",
          "data": {
            "text/plain": [
              "<Figure size 640x480 with 1 Axes>"
            ],
            "image/png": "[encoded data removed]"
          },
          "metadata": {}
        }
      ],
      "source": [
        "gdf = gpd.GeoDataFrame(df, geometry=gpd.points_from_xy(df.Longitude, df.Latitude))\n",
        "gdf.plot(marker='o', color='red', markersize=5)\n",
        "plt.show()\n",
        "coords = df[['Latitude', 'Longitude']].values\n",
        "kmeans = KMeans(n_clusters=5, random_state=0).fit(coords)\n",
        "df['cluster'] = kmeans.labels_\n",
        "gdf['cluster'] = df['cluster']\n",
        "gdf.plot(column='cluster', categorical=True, legend=True, markersize=5)\n",
        "plt.show()"
      ]
    }
  ],
  "metadata": {
    "colab": {
      "provenance": [],
      "authorship_tag": "ABX9TyOZx8tchqrBGm25TyYx/J4M",
      "include_colab_link": true
    },
    "kernelspec": {
      "display_name": "Python 3",
      "name": "python3"
    },
    "language_info": {
      "name": "python"
    }
  },
  "nbformat": 4,
  "nbformat_minor": 0
}