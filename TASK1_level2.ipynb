{
  "cells": [
    {
      "cell_type": "markdown",
      "metadata": {
        "id": "view-in-github",
        "colab_type": "text"
      },
      "source": [
        "<a href=\"https://colab.research.google.com/github/RashmiThakre/Cognifyz-Tasks/blob/main/TASK1_level2.ipynb\" target=\"_parent\"><img src=\"https://colab.research.google.com/assets/colab-badge.svg\" alt=\"Open In Colab\"/></a>"
      ]
    },
    {
      "cell_type": "code",
      "execution_count": null,
      "metadata": {
        "id": "0jx9eMdv3gOp"
      },
      "outputs": [],
      "source": [
        "import pandas as pd\n",
        "import numpy as np\n",
        "import matplotlib.pyplot as plt\n",
        "import seaborn as sns\n",
        "import warnings\n",
        "warnings.filterwarnings(\"ignore\")"
      ]
    },
    {
      "cell_type": "code",
      "execution_count": null,
      "metadata": {
        "id": "Jy9SnWXl3lli"
      },
      "outputs": [],
      "source": [
        "df = pd.read_csv('/content/Dataset .csv')"
      ]
    },
    {
      "cell_type": "code",
      "execution_count": null,
      "metadata": {
        "colab": {
          "base_uri": "https://localhost:8080/"
        },
        "id": "1jbszu8V3loV",
        "outputId": "5dfa5a5b-87e3-409f-adc3-e1cdaa0933f5"
      },
      "outputs": [
        {
          "name": "stdout",
          "output_type": "stream",
          "text": [
            "Index(['Restaurant ID', 'Restaurant Name', 'Country Code', 'City', 'Address',\n",
            "       'Locality', 'Locality Verbose', 'Longitude', 'Latitude', 'Cuisines',\n",
            "       'Average Cost for two', 'Currency', 'Has Table booking',\n",
            "       'Has Online delivery', 'Is delivering now', 'Switch to order menu',\n",
            "       'Price range', 'Aggregate rating', 'Rating color', 'Rating text',\n",
            "       'Votes'],\n",
            "      dtype='object')\n"
          ]
        }
      ],
      "source": [
        "print(df.columns)"
      ]
    },
    {
      "cell_type": "code",
      "execution_count": null,
      "metadata": {
        "colab": {
          "base_uri": "https://localhost:8080/"
        },
        "id": "bieR_LjW3ltG",
        "outputId": "8ce301cb-d4cb-4caf-da14-ebe12cb396f9"
      },
      "outputs": [
        {
          "name": "stdout",
          "output_type": "stream",
          "text": [
            "0       4.8\n",
            "1       4.5\n",
            "2       4.4\n",
            "3       4.9\n",
            "4       4.8\n",
            "       ... \n",
            "9546    4.1\n",
            "9547    4.2\n",
            "9548    3.7\n",
            "9549    4.0\n",
            "9550    4.0\n",
            "Name: Aggregate rating, Length: 9551, dtype: float64\n"
          ]
        }
      ],
      "source": [
        "print(df['Aggregate rating'])"
      ]
    },
    {
      "cell_type": "code",
      "execution_count": null,
      "metadata": {
        "colab": {
          "base_uri": "https://localhost:8080/",
          "height": 333
        },
        "id": "yTwGHaC94hmN",
        "outputId": "58c34202-1d5b-494b-d01d-f7fbb04327e3"
      },
      "outputs": [
        {
          "data": {
            "image/png": "[encoded data removed]",
            "text/plain": [
              "<Figure size 600x300 with 1 Axes>"
            ]
          },
          "metadata": {},
          "output_type": "display_data"
        }
      ],
      "source": [
        "plt.figure(figsize=(6, 3))\n",
        "sns.histplot(df['Aggregate rating'], bins=20, kde=True)\n",
        "plt.title('Distribution of Aggregate Ratings')\n",
        "plt.xlabel('Rating')\n",
        "plt.ylabel('Frequency')\n",
        "plt.show()"
      ]
    },
    {
      "cell_type": "code",
      "execution_count": null,
      "metadata": {
        "colab": {
          "background_save": true
        },
        "id": "xyt1NFqH4hi3",
        "outputId": "da7e46d6-acd6-4902-b186-5568b03bee38"
      },
      "outputs": [
        {
          "name": "stdout",
          "output_type": "stream",
          "text": [
            "Aggregate rating\n",
            "0.0    2148\n",
            "1.8       1\n",
            "1.9       2\n",
            "2.0       7\n",
            "2.1      15\n",
            "2.2      27\n",
            "2.3      47\n",
            "2.4      87\n",
            "2.5     110\n",
            "2.6     191\n",
            "2.7     250\n",
            "2.8     315\n",
            "2.9     381\n",
            "3.0     468\n",
            "3.1     519\n",
            "3.2     522\n",
            "3.3     483\n",
            "3.4     498\n",
            "3.5     480\n",
            "3.6     458\n",
            "3.7     427\n",
            "3.8     400\n",
            "3.9     335\n",
            "4.0     266\n",
            "4.1     274\n",
            "4.2     221\n",
            "4.3     174\n",
            "4.4     144\n",
            "4.5      95\n",
            "4.6      78\n",
            "4.7      42\n",
            "4.8      25\n",
            "4.9      61\n",
            "Name: count, dtype: int64\n",
            "The most common rating range is: 0.0\n",
            "Frequency of the most common rating range: 2148\n"
          ]
        }
      ],
      "source": [
        "rating_counts = df['Aggregate rating'].value_counts().sort_index()\n",
        "print(rating_counts)\n",
        "most_common_range = rating_counts.idxmax()\n",
        "most_common_frequency = rating_counts.max()\n",
        "\n",
        "print(f\"The most common rating range is: {most_common_range}\")\n",
        "print(f\"Frequency of the most common rating range: {most_common_frequency}\")"
      ]
    },
    {
      "cell_type": "code",
      "source": [
        "print(df['Votes'].mean())"
      ],
      "metadata": {
        "colab": {
          "base_uri": "https://localhost:8080/"
        },
        "id": "WgP9wb0Z7H4q",
        "outputId": "5df4860c-58fb-4e1c-d5ef-40f90a3d8956"
      },
      "execution_count": null,
      "outputs": [
        {
          "output_type": "stream",
          "name": "stdout",
          "text": [
            "156.909747670401\n"
          ]
        }
      ]
    }
  ],
  "metadata": {
    "colab": {
      "provenance": [],
      "authorship_tag": "ABX9TyNr1AUmURSqq3He4OSPsLrj",
      "include_colab_link": true
    },
    "kernelspec": {
      "display_name": "Python 3",
      "name": "python3"
    },
    "language_info": {
      "name": "python"
    }
  },
  "nbformat": 4,
  "nbformat_minor": 0
}